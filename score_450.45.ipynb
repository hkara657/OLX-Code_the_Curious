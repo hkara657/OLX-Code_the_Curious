{
 "cells": [
  {
   "cell_type": "code",
   "execution_count": null,
   "metadata": {
    "collapsed": true
   },
   "outputs": [],
   "source": [
    "from IPython.core.interactiveshell import InteractiveShell\n",
    "InteractiveShell.ast_node_interactivity = \"all\""
   ]
  },
  {
   "cell_type": "code",
   "execution_count": null,
   "metadata": {
    "collapsed": true
   },
   "outputs": [],
   "source": [
    "import pandas as pd\n",
    "import numpy as np\n",
    "import datetime\n",
    "import os"
   ]
  },
  {
   "cell_type": "code",
   "execution_count": null,
   "metadata": {
    "collapsed": true
   },
   "outputs": [],
   "source": [
    "ads_data=pd.read_csv('olx_data/ads_data/ads_data.csv')\n",
    "user_data=pd.read_csv('olx_data/user_data/user_data.csv')\n",
    "user_msg=pd.read_csv('olx_data/user_messages.csv')\n",
    "test=pd.read_csv('olx_data/user_messages_test.csv')"
   ]
  },
  {
   "cell_type": "code",
   "execution_count": null,
   "metadata": {},
   "outputs": [],
   "source": [
    "len(pd.unique(ads_data['category_id']))"
   ]
  },
  {
   "cell_type": "code",
   "execution_count": null,
   "metadata": {},
   "outputs": [],
   "source": [
    "test.shape\n",
    "user_msg.shape\n",
    "ads_data.shape\n",
    "user_data.shape\n"
   ]
  },
  {
   "cell_type": "code",
   "execution_count": null,
   "metadata": {},
   "outputs": [],
   "source": [
    "#no common users in test and user_msg.csv\n",
    "lst1=set(test['user_id'])\n",
    "len(lst1)\n",
    "lst2=set(user_msg['user_id'])\n",
    "len(lst2)\n",
    "\n",
    "len(lst1.intersection(lst2))"
   ]
  },
  {
   "cell_type": "code",
   "execution_count": null,
   "metadata": {},
   "outputs": [],
   "source": [
    "test.head(2)\n",
    "user_msg.head(2)\n",
    "ads_data.head(2)\n",
    "user_data.head(2)"
   ]
  },
  {
   "cell_type": "code",
   "execution_count": null,
   "metadata": {
    "collapsed": true
   },
   "outputs": [],
   "source": [
    "# create ads and category dataframe with ads_id as index\n",
    "ind=np.array(ads_data['ad_id'])\n",
    "cat=np.array(ads_data['category_id'])\n",
    "ads_cat=pd.DataFrame(cat,index=ind,columns=['category_id'])\n",
    "\n",
    "price=np.array(ads_data['price'])\n",
    "ads_price=pd.DataFrame(price,index=ind,columns=['price'])\n",
    "\n",
    "enabled=np.array(ads_data['enabled'])\n",
    "ads_enabled=pd.DataFrame(enabled,index=ind,columns=['enabled'])"
   ]
  },
  {
   "cell_type": "code",
   "execution_count": null,
   "metadata": {},
   "outputs": [],
   "source": [
    "pd.unique(user_data['origin'])"
   ]
  },
  {
   "cell_type": "code",
   "execution_count": null,
   "metadata": {},
   "outputs": [],
   "source": [
    "cols=['channel','user_lat','user_long']\n",
    "user_data.drop(cols,axis=1,inplace=True)\n",
    "\n",
    "mapping = {'view':0 , 'first_message':1}\n",
    "user_data = user_data.replace({'event':mapping})\n",
    "\n",
    "mapping = {'browse_search':0,'browse':0 ,'search':0,'notification_center':1, 'home':2, 'push':3, 'drawer':4, 'deeplink':4 }\n",
    "user_data = user_data.replace({'origin':mapping})\n",
    "\n",
    "user_data.dtypes"
   ]
  },
  {
   "cell_type": "code",
   "execution_count": null,
   "metadata": {
    "scrolled": true
   },
   "outputs": [],
   "source": [
    "user_data = user_data.sort_values(by=['origin','ad_messages','ad_views','ad_impressions'],ascending=[True,False,False,False])"
   ]
  },
  {
   "cell_type": "code",
   "execution_count": null,
   "metadata": {},
   "outputs": [],
   "source": [
    "ans={}\n",
    "cat=pd.unique(test['category_id'])\n",
    "for cid in cat:\n",
    "    df1=user_data\n",
    "    catdf = ads_cat.loc[ df1['ad_id'] ]\n",
    "    df1 = df1[ np.array(catdf==cid) ]  #selecting those adds that have the same category as cid i.e. test instance\n",
    "#     pricedf = ads_price.loc[ df1['ad_id'] ]\n",
    "#     df1.shape\n",
    "    enabledf = ads_enabled.loc[ df1['ad_id'] ]\n",
    "    df1=df1[np.array(enabledf==1)]\n",
    "#     df1=df1.sort_values(by=['ad_messages','ad_views','ad_impressions'],ascending=[False,False,False])\n",
    "\n",
    "    lst=[]\n",
    "    #to get unique elements in lst\n",
    "    ids=list(df1['ad_id'])\n",
    "    for i in np.arange(len(ids)):\n",
    "        if len(lst)==10:\n",
    "            break\n",
    "        if not ids[i] in lst:\n",
    "            lst.append(ids[i])\n",
    "\n",
    "    ans[cid]=lst\n",
    "#     print df1.columns"
   ]
  },
  {
   "cell_type": "code",
   "execution_count": null,
   "metadata": {
    "scrolled": true
   },
   "outputs": [],
   "source": [
    "j=0\n",
    "result=test[['user_id','category_id']]\n",
    "res_ads=[]\n",
    "for i in test.index:\n",
    "    if j%100==0:\n",
    "        print j\n",
    "    j = j+1\n",
    "    row=test.loc[i]\n",
    "    uid=row['user_id']\n",
    "    cid=row['category_id']\n",
    "#     print 'new',uid,cid\n",
    "#     user_cat_ads = user_data.loc[ np.logical_and( user_data['user_id']=uid , user_data['']  )    ]\n",
    "    df1 = user_data.loc[ user_data['user_id']==uid ]\n",
    "    \n",
    "    if df1.shape[0]==0:\n",
    "        res_ads.append(str(ans[cid]))\n",
    "        continue\n",
    "        \n",
    "    catdf = ads_cat.loc[ df1['ad_id'] ]\n",
    "    df1 = df1[ np.array(catdf==cid) ]  #selecting those adds that have the same category as cid i.e. test instance\n",
    "    \n",
    "    enabledf = ads_enabled.loc[ df1['ad_id'] ]\n",
    "    if df1.shape[0]>0:\n",
    "        df1=df1[np.array(enabledf==1)]\n",
    "#     df1=df1.sort_values(by=['ad_messages','ad_views','ad_impressions'],ascending=[False,False,False])\n",
    "    \n",
    "    lst=[]\n",
    "    lst=list(df1['ad_id'][0:10])\n",
    "    \n",
    "    if len(lst)<10:\n",
    "        rem=10-len(lst)\n",
    "#         rem\n",
    "#         ans[cid]\n",
    "        lst.extend(ans[cid][0:rem])\n",
    "        \n",
    "    res_ads.append(str(lst))\n",
    "    \n",
    "#     print 'harshkara'\n",
    "#     break\n",
    "    "
   ]
  },
  {
   "cell_type": "code",
   "execution_count": null,
   "metadata": {
    "collapsed": true
   },
   "outputs": [],
   "source": []
  },
  {
   "cell_type": "code",
   "execution_count": null,
   "metadata": {
    "collapsed": true
   },
   "outputs": [],
   "source": [
    "result['ads']=res_ads"
   ]
  },
  {
   "cell_type": "code",
   "execution_count": null,
   "metadata": {},
   "outputs": [],
   "source": [
    "result.to_csv(\"res12.csv\", index=False)\n",
    "os.system(\"spd-say 'task complete'\")"
   ]
  },
  {
   "cell_type": "code",
   "execution_count": null,
   "metadata": {
    "collapsed": true
   },
   "outputs": [],
   "source": [
    "#start time 5:50"
   ]
  },
  {
   "cell_type": "code",
   "execution_count": null,
   "metadata": {
    "collapsed": true
   },
   "outputs": [],
   "source": [
    "# lst=[1,2,3,4,5]\n",
    "# lst.extend([7,8,9])\n",
    "# lst"
   ]
  },
  {
   "cell_type": "code",
   "execution_count": null,
   "metadata": {
    "collapsed": true
   },
   "outputs": [],
   "source": [
    "# list(df1['ad_id'][0:10])"
   ]
  },
  {
   "cell_type": "code",
   "execution_count": null,
   "metadata": {
    "collapsed": true
   },
   "outputs": [],
   "source": [
    "# df['e']=df['e']+np.ones(df.shape[0],dtype=int)\n",
    "# df"
   ]
  },
  {
   "cell_type": "code",
   "execution_count": null,
   "metadata": {
    "collapsed": true
   },
   "outputs": [],
   "source": [
    "# a=np.array([[1,2,3,4,5],[6,7,8,9,10],[1,4,2,6,7],[3,1,6,9,2],[4,5,6,7,8]])\n",
    "# df=pd.DataFrame(a,columns=['a','b','c','d','e'])\n",
    "# df[0:100]\n",
    "# b=[1,2,3]\n",
    "# # ind=[0,2,4]\n",
    "# df=df.loc[df['a']==1]\n",
    "# df\n",
    "# df['xyz']=np.array([99,100])\n",
    "# df"
   ]
  },
  {
   "cell_type": "code",
   "execution_count": null,
   "metadata": {
    "collapsed": true
   },
   "outputs": [],
   "source": []
  },
  {
   "cell_type": "code",
   "execution_count": null,
   "metadata": {
    "collapsed": true
   },
   "outputs": [],
   "source": []
  },
  {
   "cell_type": "code",
   "execution_count": null,
   "metadata": {
    "collapsed": true
   },
   "outputs": [],
   "source": []
  },
  {
   "cell_type": "code",
   "execution_count": null,
   "metadata": {
    "collapsed": true
   },
   "outputs": [],
   "source": [
    "# tdf=pd.DataFrame(np.array(b),index=ind,columns=['xyz'])\n",
    "# tdf\n",
    "# tdf==3\n",
    "# oop=[7,45]\n",
    "# tdf.loc[oop]"
   ]
  },
  {
   "cell_type": "code",
   "execution_count": null,
   "metadata": {
    "collapsed": true
   },
   "outputs": [],
   "source": [
    "# df\n",
    "# tdf\n",
    "# tdf.loc[tdf['xyz']==3]\n"
   ]
  },
  {
   "cell_type": "code",
   "execution_count": null,
   "metadata": {
    "collapsed": true
   },
   "outputs": [],
   "source": [
    "# df['xyz']=np.array(tdf)\n",
    "# df"
   ]
  },
  {
   "cell_type": "code",
   "execution_count": null,
   "metadata": {
    "collapsed": true
   },
   "outputs": [],
   "source": [
    "# df.loc[np.logical_and(df['a']==1, np.mod(df['d'],2)==1)]"
   ]
  },
  {
   "cell_type": "code",
   "execution_count": null,
   "metadata": {
    "collapsed": true
   },
   "outputs": [],
   "source": [
    "# #ONLY FOR TESTING PURPOSE\n",
    "# # uid=row['user_id']\n",
    "# uid=18\n",
    "# cid=800\n",
    "# # cid=row['category_id']\n",
    "# print uid\n",
    "# print cid\n",
    "# #     user_cat_ads = user_data.loc[ np.logical_and( user_data['user_id']=uid , user_data['']  )    ]\n",
    "# df1 = user_data.loc[ user_data['user_id']==uid ]\n",
    "# df1\n",
    "# if df1.shape[0]==0:\n",
    "#     df1=user_data\n",
    "\n",
    "# catdf = ads_cat.loc[ df1['ad_id'] ]\n",
    "# print '*******************************'\n",
    "# catdf\n",
    "# df1 = df1[ np.array(catdf==cid) ]  #selecting those adds that have the same category as cid i.e. test instance\n",
    "# pricedf = ads_price.loc[ df1['ad_id'] ]\n",
    "\n",
    "# df1['price'] = np.array(pricedf)\n",
    "# df1"
   ]
  }
 ],
 "metadata": {
  "kernelspec": {
   "display_name": "Python 2",
   "language": "python",
   "name": "python2"
  },
  "language_info": {
   "codemirror_mode": {
    "name": "ipython",
    "version": 2
   },
   "file_extension": ".py",
   "mimetype": "text/x-python",
   "name": "python",
   "nbconvert_exporter": "python",
   "pygments_lexer": "ipython2",
   "version": "2.7.12"
  }
 },
 "nbformat": 4,
 "nbformat_minor": 2
}
