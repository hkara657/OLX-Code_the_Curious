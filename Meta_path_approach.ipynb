{
 "cells": [
  {
   "cell_type": "code",
   "execution_count": 1,
   "metadata": {
    "collapsed": true
   },
   "outputs": [],
   "source": [
    "from IPython.core.interactiveshell import InteractiveShell\n",
    "InteractiveShell.ast_node_interactivity = \"all\""
   ]
  },
  {
   "cell_type": "code",
   "execution_count": 2,
   "metadata": {
    "collapsed": true
   },
   "outputs": [],
   "source": [
    "import pandas as pd\n",
    "import numpy as np\n",
    "import datetime\n",
    "import os"
   ]
  },
  {
   "cell_type": "code",
   "execution_count": 3,
   "metadata": {
    "collapsed": true
   },
   "outputs": [],
   "source": [
    "ads_data=pd.read_csv('olx_data/ads_data/ads_data.csv')\n",
    "user_data=pd.read_csv('olx_data/user_data/user_data.csv')\n",
    "user_msg=pd.read_csv('olx_data/user_messages.csv')\n",
    "test=pd.read_csv('olx_data/user_messages_test.csv')"
   ]
  },
  {
   "cell_type": "code",
   "execution_count": 4,
   "metadata": {},
   "outputs": [
    {
     "data": {
      "text/plain": [
       "10"
      ]
     },
     "execution_count": 4,
     "metadata": {},
     "output_type": "execute_result"
    }
   ],
   "source": [
    "len(pd.unique(ads_data['category_id']))"
   ]
  },
  {
   "cell_type": "code",
   "execution_count": 5,
   "metadata": {},
   "outputs": [
    {
     "data": {
      "text/plain": [
       "(10507, 2)"
      ]
     },
     "execution_count": 5,
     "metadata": {},
     "output_type": "execute_result"
    },
    {
     "data": {
      "text/plain": [
       "(10348, 3)"
      ]
     },
     "execution_count": 5,
     "metadata": {},
     "output_type": "execute_result"
    },
    {
     "data": {
      "text/plain": [
       "(645168, 11)"
      ]
     },
     "execution_count": 5,
     "metadata": {},
     "output_type": "execute_result"
    },
    {
     "data": {
      "text/plain": [
       "(2143889, 12)"
      ]
     },
     "execution_count": 5,
     "metadata": {},
     "output_type": "execute_result"
    }
   ],
   "source": [
    "test.shape\n",
    "user_msg.shape\n",
    "ads_data.shape\n",
    "user_data.shape\n"
   ]
  },
  {
   "cell_type": "code",
   "execution_count": 6,
   "metadata": {},
   "outputs": [
    {
     "data": {
      "text/plain": [
       "7162"
      ]
     },
     "execution_count": 6,
     "metadata": {},
     "output_type": "execute_result"
    },
    {
     "data": {
      "text/plain": [
       "7161"
      ]
     },
     "execution_count": 6,
     "metadata": {},
     "output_type": "execute_result"
    },
    {
     "data": {
      "text/plain": [
       "0"
      ]
     },
     "execution_count": 6,
     "metadata": {},
     "output_type": "execute_result"
    }
   ],
   "source": [
    "#no common users in test and user_msg.csv\n",
    "lst1=set(test['user_id'])\n",
    "len(lst1)\n",
    "lst2=set(user_msg['user_id'])\n",
    "len(lst2)\n",
    "\n",
    "len(lst1.intersection(lst2))"
   ]
  },
  {
   "cell_type": "code",
   "execution_count": 7,
   "metadata": {},
   "outputs": [
    {
     "data": {
      "text/html": [
       "<div>\n",
       "<style>\n",
       "    .dataframe thead tr:only-child th {\n",
       "        text-align: right;\n",
       "    }\n",
       "\n",
       "    .dataframe thead th {\n",
       "        text-align: left;\n",
       "    }\n",
       "\n",
       "    .dataframe tbody tr th {\n",
       "        vertical-align: top;\n",
       "    }\n",
       "</style>\n",
       "<table border=\"1\" class=\"dataframe\">\n",
       "  <thead>\n",
       "    <tr style=\"text-align: right;\">\n",
       "      <th></th>\n",
       "      <th>user_id</th>\n",
       "      <th>category_id</th>\n",
       "    </tr>\n",
       "  </thead>\n",
       "  <tbody>\n",
       "    <tr>\n",
       "      <th>0</th>\n",
       "      <td>2</td>\n",
       "      <td>800</td>\n",
       "    </tr>\n",
       "    <tr>\n",
       "      <th>1</th>\n",
       "      <td>6</td>\n",
       "      <td>815</td>\n",
       "    </tr>\n",
       "  </tbody>\n",
       "</table>\n",
       "</div>"
      ],
      "text/plain": [
       "   user_id  category_id\n",
       "0        2          800\n",
       "1        6          815"
      ]
     },
     "execution_count": 7,
     "metadata": {},
     "output_type": "execute_result"
    },
    {
     "data": {
      "text/html": [
       "<div>\n",
       "<style>\n",
       "    .dataframe thead tr:only-child th {\n",
       "        text-align: right;\n",
       "    }\n",
       "\n",
       "    .dataframe thead th {\n",
       "        text-align: left;\n",
       "    }\n",
       "\n",
       "    .dataframe tbody tr th {\n",
       "        vertical-align: top;\n",
       "    }\n",
       "</style>\n",
       "<table border=\"1\" class=\"dataframe\">\n",
       "  <thead>\n",
       "    <tr style=\"text-align: right;\">\n",
       "      <th></th>\n",
       "      <th>user_id</th>\n",
       "      <th>category_id</th>\n",
       "      <th>ads</th>\n",
       "    </tr>\n",
       "  </thead>\n",
       "  <tbody>\n",
       "    <tr>\n",
       "      <th>0</th>\n",
       "      <td>1</td>\n",
       "      <td>859</td>\n",
       "      <td>[1806476]</td>\n",
       "    </tr>\n",
       "    <tr>\n",
       "      <th>1</th>\n",
       "      <td>3</td>\n",
       "      <td>800</td>\n",
       "      <td>[2131700, 2734107, 2877209, 2877209]</td>\n",
       "    </tr>\n",
       "  </tbody>\n",
       "</table>\n",
       "</div>"
      ],
      "text/plain": [
       "   user_id  category_id                                   ads\n",
       "0        1          859                             [1806476]\n",
       "1        3          800  [2131700, 2734107, 2877209, 2877209]"
      ]
     },
     "execution_count": 7,
     "metadata": {},
     "output_type": "execute_result"
    },
    {
     "data": {
      "text/html": [
       "<div>\n",
       "<style>\n",
       "    .dataframe thead tr:only-child th {\n",
       "        text-align: right;\n",
       "    }\n",
       "\n",
       "    .dataframe thead th {\n",
       "        text-align: left;\n",
       "    }\n",
       "\n",
       "    .dataframe tbody tr th {\n",
       "        vertical-align: top;\n",
       "    }\n",
       "</style>\n",
       "<table border=\"1\" class=\"dataframe\">\n",
       "  <thead>\n",
       "    <tr style=\"text-align: right;\">\n",
       "      <th></th>\n",
       "      <th>ad_id</th>\n",
       "      <th>category_id</th>\n",
       "      <th>seller_id</th>\n",
       "      <th>creation_time</th>\n",
       "      <th>title</th>\n",
       "      <th>description</th>\n",
       "      <th>price</th>\n",
       "      <th>lat</th>\n",
       "      <th>long</th>\n",
       "      <th>source</th>\n",
       "      <th>enabled</th>\n",
       "    </tr>\n",
       "  </thead>\n",
       "  <tbody>\n",
       "    <tr>\n",
       "      <th>0</th>\n",
       "      <td>1344</td>\n",
       "      <td>800</td>\n",
       "      <td>1157</td>\n",
       "      <td>2015-11-29 13:05:26</td>\n",
       "      <td>Blackberry curve</td>\n",
       "      <td>Funcionando, es para personal el único problem...</td>\n",
       "      <td>300.0</td>\n",
       "      <td>NaN</td>\n",
       "      <td>NaN</td>\n",
       "      <td>android</td>\n",
       "      <td>0</td>\n",
       "    </tr>\n",
       "    <tr>\n",
       "      <th>1</th>\n",
       "      <td>3916</td>\n",
       "      <td>815</td>\n",
       "      <td>59</td>\n",
       "      <td>2015-12-16 09:09:25</td>\n",
       "      <td>Remera marca premium alemana</td>\n",
       "      <td>Casi nuevo y sin uso. Lo compre online y me qu...</td>\n",
       "      <td>150.0</td>\n",
       "      <td>NaN</td>\n",
       "      <td>NaN</td>\n",
       "      <td>android</td>\n",
       "      <td>1</td>\n",
       "    </tr>\n",
       "  </tbody>\n",
       "</table>\n",
       "</div>"
      ],
      "text/plain": [
       "   ad_id  category_id  seller_id        creation_time  \\\n",
       "0   1344          800       1157  2015-11-29 13:05:26   \n",
       "1   3916          815         59  2015-12-16 09:09:25   \n",
       "\n",
       "                          title  \\\n",
       "0              Blackberry curve   \n",
       "1  Remera marca premium alemana   \n",
       "\n",
       "                                         description  price  lat  long  \\\n",
       "0  Funcionando, es para personal el único problem...  300.0  NaN   NaN   \n",
       "1  Casi nuevo y sin uso. Lo compre online y me qu...  150.0  NaN   NaN   \n",
       "\n",
       "    source  enabled  \n",
       "0  android        0  \n",
       "1  android        1  "
      ]
     },
     "execution_count": 7,
     "metadata": {},
     "output_type": "execute_result"
    },
    {
     "data": {
      "text/html": [
       "<div>\n",
       "<style>\n",
       "    .dataframe thead tr:only-child th {\n",
       "        text-align: right;\n",
       "    }\n",
       "\n",
       "    .dataframe thead th {\n",
       "        text-align: left;\n",
       "    }\n",
       "\n",
       "    .dataframe tbody tr th {\n",
       "        vertical-align: top;\n",
       "    }\n",
       "</style>\n",
       "<table border=\"1\" class=\"dataframe\">\n",
       "  <thead>\n",
       "    <tr style=\"text-align: right;\">\n",
       "      <th></th>\n",
       "      <th>event_time</th>\n",
       "      <th>user_id</th>\n",
       "      <th>event</th>\n",
       "      <th>channel</th>\n",
       "      <th>user_lat</th>\n",
       "      <th>user_long</th>\n",
       "      <th>origin</th>\n",
       "      <th>ad_id</th>\n",
       "      <th>images_count</th>\n",
       "      <th>ad_impressions</th>\n",
       "      <th>ad_views</th>\n",
       "      <th>ad_messages</th>\n",
       "    </tr>\n",
       "  </thead>\n",
       "  <tbody>\n",
       "    <tr>\n",
       "      <th>0</th>\n",
       "      <td>2017-05-19 10:47:22</td>\n",
       "      <td>541</td>\n",
       "      <td>view</td>\n",
       "      <td>ios</td>\n",
       "      <td>-34.600439</td>\n",
       "      <td>-58.514031</td>\n",
       "      <td>browse_search</td>\n",
       "      <td>2426321</td>\n",
       "      <td>6.0</td>\n",
       "      <td>0.0</td>\n",
       "      <td>4.0</td>\n",
       "      <td>0.0</td>\n",
       "    </tr>\n",
       "    <tr>\n",
       "      <th>1</th>\n",
       "      <td>2017-06-10 10:18:12</td>\n",
       "      <td>501</td>\n",
       "      <td>view</td>\n",
       "      <td>android</td>\n",
       "      <td>-34.818047</td>\n",
       "      <td>-58.356583</td>\n",
       "      <td>browse_search</td>\n",
       "      <td>2746814</td>\n",
       "      <td>5.0</td>\n",
       "      <td>152.0</td>\n",
       "      <td>85.0</td>\n",
       "      <td>1.0</td>\n",
       "    </tr>\n",
       "  </tbody>\n",
       "</table>\n",
       "</div>"
      ],
      "text/plain": [
       "            event_time  user_id event  channel   user_lat  user_long  \\\n",
       "0  2017-05-19 10:47:22      541  view      ios -34.600439 -58.514031   \n",
       "1  2017-06-10 10:18:12      501  view  android -34.818047 -58.356583   \n",
       "\n",
       "          origin    ad_id  images_count  ad_impressions  ad_views  ad_messages  \n",
       "0  browse_search  2426321           6.0             0.0       4.0          0.0  \n",
       "1  browse_search  2746814           5.0           152.0      85.0          1.0  "
      ]
     },
     "execution_count": 7,
     "metadata": {},
     "output_type": "execute_result"
    }
   ],
   "source": [
    "test.head(2)\n",
    "user_msg.head(2)\n",
    "ads_data.head(2)\n",
    "user_data.head(2)"
   ]
  },
  {
   "cell_type": "code",
   "execution_count": 8,
   "metadata": {
    "collapsed": true
   },
   "outputs": [],
   "source": [
    "user_data['event_time']=pd.to_datetime(user_data['event_time'])\n",
    "# user_data['event_time']=pd.to_datetime(str(user_data['event_time'].dt.month)+'-'+str()\n",
    "user_data['month']=user_data['event_time'].dt.month\n",
    "user_data['day']=user_data['event_time'].dt.day"
   ]
  },
  {
   "cell_type": "code",
   "execution_count": 9,
   "metadata": {},
   "outputs": [
    {
     "data": {
      "text/plain": [
       "event_time        datetime64[ns]\n",
       "user_id                    int64\n",
       "event                      int64\n",
       "origin                   float64\n",
       "ad_id                      int64\n",
       "images_count             float64\n",
       "ad_impressions           float64\n",
       "ad_views                 float64\n",
       "ad_messages              float64\n",
       "month                      int64\n",
       "day                        int64\n",
       "dtype: object"
      ]
     },
     "execution_count": 9,
     "metadata": {},
     "output_type": "execute_result"
    }
   ],
   "source": [
    "cols=['channel','user_lat','user_long']\n",
    "user_data.drop(cols,axis=1,inplace=True)\n",
    "\n",
    "mapping = {'view':0 , 'first_message':1}\n",
    "user_data = user_data.replace({'event':mapping})\n",
    "\n",
    "mapping = {'browse_search':0,'browse':0 ,'search':0,'notification_center':1, 'home':2, 'push':3, 'drawer':4, 'deeplink':4 }\n",
    "user_data = user_data.replace({'origin':mapping})\n",
    "\n",
    "user_data.dtypes"
   ]
  },
  {
   "cell_type": "code",
   "execution_count": 10,
   "metadata": {
    "collapsed": true
   },
   "outputs": [],
   "source": [
    "# create ads and category dataframe with ads_id as index\n",
    "ind=np.array(ads_data['ad_id'])\n",
    "cat=np.array(ads_data['category_id'])\n",
    "ads_cat=pd.DataFrame(cat,index=ind,columns=['category_id'])\n",
    "\n",
    "price=np.array(ads_data['price'])\n",
    "ads_price=pd.DataFrame(price,index=ind,columns=['price'])\n",
    "\n",
    "enabled=np.array(ads_data['enabled'])\n",
    "ads_enabled=pd.DataFrame(enabled,index=ind,columns=['enabled'])\n",
    "\n",
    "\n",
    "\n",
    "user=np.array(user_data['user_id'])\n",
    "ind=np.array(user_data['ad_id'])\n",
    "\n",
    "ads_user=pd.DataFrame(user,index=ind,columns=['user'])\n",
    "user_ads=pd.DataFrame(ind,index=user,columns=['ad_id'])\n",
    "\n",
    "ad_info = pd.DataFrame(np.array(user_data),index=ind,columns=user_data.columns)"
   ]
  },
  {
   "cell_type": "code",
   "execution_count": 11,
   "metadata": {},
   "outputs": [
    {
     "data": {
      "text/plain": [
       "array([  0.,   2.,   1.,   3.,  nan,   4.])"
      ]
     },
     "execution_count": 11,
     "metadata": {},
     "output_type": "execute_result"
    }
   ],
   "source": [
    "pd.unique(user_data['origin'])"
   ]
  },
  {
   "cell_type": "code",
   "execution_count": 12,
   "metadata": {
    "collapsed": true,
    "scrolled": true
   },
   "outputs": [],
   "source": [
    "user_data = user_data.sort_values(by=['month','day','origin','ad_messages','ad_views','ad_impressions'],ascending=[False,False,True,False,False,False])"
   ]
  },
  {
   "cell_type": "code",
   "execution_count": 13,
   "metadata": {
    "collapsed": true
   },
   "outputs": [],
   "source": [
    "ans={}\n",
    "cat=pd.unique(test['category_id'])\n",
    "for cid in cat:\n",
    "    df1=user_data\n",
    "    \n",
    "    \n",
    "    catdf = ads_cat.loc[ df1['ad_id'] ]\n",
    "    df1 = df1[ np.array(catdf==cid) ]  #selecting those adds that have the same category as cid i.e. test instance\n",
    "    \n",
    "    \n",
    "    enabledf = ads_enabled.loc[ df1['ad_id'] ]\n",
    "    df1=df1[np.array(enabledf==1)]\n",
    "\n",
    "    \n",
    "    lst=[]\n",
    "    #to get unique elements in lst\n",
    "    ids=list(df1['ad_id'])\n",
    "    for i in np.arange(len(ids)):\n",
    "        if len(lst)==10:\n",
    "            break\n",
    "        if not ids[i] in lst:\n",
    "            lst.append(ids[i])\n",
    "\n",
    "    ans[cid]=lst\n",
    "#     print df1.columns"
   ]
  },
  {
   "cell_type": "code",
   "execution_count": null,
   "metadata": {
    "collapsed": true
   },
   "outputs": [],
   "source": [
    "# np.unique(ads_user.loc[2426321])\n",
    "# user_ads.loc[541]"
   ]
  },
  {
   "cell_type": "code",
   "execution_count": null,
   "metadata": {
    "scrolled": true
   },
   "outputs": [
    {
     "name": "stdout",
     "output_type": "stream",
     "text": [
      "0\n",
      "10\n",
      "20\n",
      "30\n",
      "40\n",
      "50\n",
      "60\n",
      "70\n",
      "80\n",
      "90\n",
      "100\n"
     ]
    }
   ],
   "source": [
    "j=0\n",
    "result=test[['user_id','category_id']]\n",
    "res_ads=[]\n",
    "for i in test.index:\n",
    "    if j%10==0:\n",
    "        print j\n",
    "    j = j+1\n",
    "    row=test.loc[i]\n",
    "    uid=row['user_id']\n",
    "    cid=row['category_id']\n",
    "\n",
    "    df1 = user_data.loc[ user_data['user_id']==uid ]\n",
    "    \n",
    "    related_user = np.unique(ads_user.loc[ df1['ad_id'] ])\n",
    "    related_ads = np.unique(user_ads.loc[related_user])\n",
    "    \n",
    "    df1 = ad_info.loc[related_ads]\n",
    "    \n",
    "    if df1.shape[0]==0:\n",
    "        res_ads.append(str(ans[cid]))\n",
    "        continue\n",
    "        \n",
    "    catdf = ads_cat.loc[ df1['ad_id'] ]\n",
    "    df1 = df1[ np.array(catdf==cid) ]  #selecting those adds that have the same category as cid i.e. test instance\n",
    "    \n",
    "    enabledf = ads_enabled.loc[ df1['ad_id'] ]\n",
    "    if df1.shape[0]>0:\n",
    "        df1=df1[np.array(enabledf==1)]\n",
    "#     df1=df1.sort_values(by=['ad_messages','ad_views','ad_impressions'],ascending=[False,False,False])\n",
    "    \n",
    "    lst=[]\n",
    "    lst=list(df1['ad_id'][0:10])\n",
    "    \n",
    "    if len(lst)<10:\n",
    "        rem=10-len(lst)\n",
    "#         rem\n",
    "#         ans[cid]\n",
    "        lst.extend(ans[cid][0:rem])\n",
    "        \n",
    "    res_ads.append(str(lst))\n",
    "    \n",
    "#     print 'harshkara'\n",
    "#     break\n",
    "    "
   ]
  },
  {
   "cell_type": "code",
   "execution_count": null,
   "metadata": {
    "collapsed": true
   },
   "outputs": [],
   "source": [
    "type(related_ads)"
   ]
  },
  {
   "cell_type": "code",
   "execution_count": null,
   "metadata": {
    "collapsed": true
   },
   "outputs": [],
   "source": [
    "result['ads']=res_ads"
   ]
  },
  {
   "cell_type": "code",
   "execution_count": null,
   "metadata": {
    "collapsed": true
   },
   "outputs": [],
   "source": [
    "result.to_csv(\"res_meta_path.csv\", index=False)\n",
    "os.system(\"spd-say 'task complete'\")"
   ]
  },
  {
   "cell_type": "code",
   "execution_count": null,
   "metadata": {
    "collapsed": true
   },
   "outputs": [],
   "source": [
    "#start time 9:20pm"
   ]
  },
  {
   "cell_type": "code",
   "execution_count": null,
   "metadata": {
    "collapsed": true
   },
   "outputs": [],
   "source": [
    "# lst=[1,2,3,4,5]\n",
    "# lst.extend([7,8,9])\n",
    "# lst"
   ]
  },
  {
   "cell_type": "code",
   "execution_count": null,
   "metadata": {
    "collapsed": true
   },
   "outputs": [],
   "source": [
    "# list(df1['ad_id'][0:10])"
   ]
  },
  {
   "cell_type": "code",
   "execution_count": null,
   "metadata": {
    "collapsed": true
   },
   "outputs": [],
   "source": [
    "# df['e']=df['e']+np.ones(df.shape[0],dtype=int)\n",
    "# df"
   ]
  },
  {
   "cell_type": "code",
   "execution_count": null,
   "metadata": {
    "collapsed": true
   },
   "outputs": [],
   "source": [
    "# a=np.array([[1,2,3,4,5],[6,7,8,9,10],[1,4,2,6,7],[3,1,6,9,2],[4,5,6,7,8]])\n",
    "# df=pd.DataFrame(a,columns=['a','b','c','d','e'])\n",
    "# df[0:100]\n",
    "# b=[1,2,3]\n",
    "# # ind=[0,2,4]\n",
    "# df=df.loc[df['a']==1]\n",
    "# df\n",
    "# df['xyz']=np.array([99,100])\n",
    "# df"
   ]
  },
  {
   "cell_type": "code",
   "execution_count": null,
   "metadata": {
    "collapsed": true
   },
   "outputs": [],
   "source": []
  },
  {
   "cell_type": "code",
   "execution_count": null,
   "metadata": {
    "collapsed": true
   },
   "outputs": [],
   "source": []
  },
  {
   "cell_type": "code",
   "execution_count": null,
   "metadata": {
    "collapsed": true
   },
   "outputs": [],
   "source": []
  },
  {
   "cell_type": "code",
   "execution_count": null,
   "metadata": {
    "collapsed": true
   },
   "outputs": [],
   "source": [
    "# tdf=pd.DataFrame(np.array(b),index=ind,columns=['xyz'])\n",
    "# tdf\n",
    "# tdf==3\n",
    "# oop=[7,45]\n",
    "# tdf.loc[oop]"
   ]
  },
  {
   "cell_type": "code",
   "execution_count": null,
   "metadata": {
    "collapsed": true
   },
   "outputs": [],
   "source": [
    "# df\n",
    "# tdf\n",
    "# tdf.loc[tdf['xyz']==3]\n"
   ]
  },
  {
   "cell_type": "code",
   "execution_count": null,
   "metadata": {
    "collapsed": true
   },
   "outputs": [],
   "source": [
    "# df['xyz']=np.array(tdf)\n",
    "# df"
   ]
  },
  {
   "cell_type": "code",
   "execution_count": null,
   "metadata": {
    "collapsed": true
   },
   "outputs": [],
   "source": [
    "# df.loc[np.logical_and(df['a']==1, np.mod(df['d'],2)==1)]"
   ]
  },
  {
   "cell_type": "code",
   "execution_count": null,
   "metadata": {
    "collapsed": true
   },
   "outputs": [],
   "source": [
    "# #ONLY FOR TESTING PURPOSE\n",
    "# # uid=row['user_id']\n",
    "# uid=18\n",
    "# cid=800\n",
    "# # cid=row['category_id']\n",
    "# print uid\n",
    "# print cid\n",
    "# #     user_cat_ads = user_data.loc[ np.logical_and( user_data['user_id']=uid , user_data['']  )    ]\n",
    "# df1 = user_data.loc[ user_data['user_id']==uid ]\n",
    "# df1\n",
    "# if df1.shape[0]==0:\n",
    "#     df1=user_data\n",
    "\n",
    "# catdf = ads_cat.loc[ df1['ad_id'] ]\n",
    "# print '*******************************'\n",
    "# catdf\n",
    "# df1 = df1[ np.array(catdf==cid) ]  #selecting those adds that have the same category as cid i.e. test instance\n",
    "# pricedf = ads_price.loc[ df1['ad_id'] ]\n",
    "\n",
    "# df1['price'] = np.array(pricedf)\n",
    "# df1"
   ]
  }
 ],
 "metadata": {
  "kernelspec": {
   "display_name": "Python 2",
   "language": "python",
   "name": "python2"
  },
  "language_info": {
   "codemirror_mode": {
    "name": "ipython",
    "version": 2
   },
   "file_extension": ".py",
   "mimetype": "text/x-python",
   "name": "python",
   "nbconvert_exporter": "python",
   "pygments_lexer": "ipython2",
   "version": "2.7.12"
  }
 },
 "nbformat": 4,
 "nbformat_minor": 2
}
